{
 "cells": [
  {
   "cell_type": "markdown",
   "id": "7677b320",
   "metadata": {},
   "source": [
    "# python introduction\n",
    "## erste Anweisung\n",
    "dieser text ist *kursiv* oder **fett** oder ***fettkursiv***\n",
    "- Punkt 1\n",
    "- Punkt 2\n",
    "- Punkt 3"
   ]
  },
  {
   "cell_type": "code",
   "execution_count": 1,
   "id": "cb5f1788",
   "metadata": {},
   "outputs": [
    {
     "name": "stdout",
     "output_type": "stream",
     "text": [
      "Hello world!\n"
     ]
    }
   ],
   "source": [
    "print(\"Hello world!\")"
   ]
  },
  {
   "cell_type": "code",
   "execution_count": 2,
   "id": "65566ed9",
   "metadata": {},
   "outputs": [
    {
     "name": "stdout",
     "output_type": "stream",
     "text": [
      "something\n"
     ]
    }
   ],
   "source": [
    "#kommentar\n",
    "print (\"something\")"
   ]
  },
  {
   "cell_type": "code",
   "execution_count": 3,
   "id": "d3349edb",
   "metadata": {},
   "outputs": [],
   "source": [
    "# variablen und wertzuweisung\n",
    "name = \"Lovelace\""
   ]
  },
  {
   "cell_type": "code",
   "execution_count": 4,
   "id": "162470b9",
   "metadata": {},
   "outputs": [
    {
     "name": "stdout",
     "output_type": "stream",
     "text": [
      "Lovelace\n"
     ]
    }
   ],
   "source": [
    "print (name)"
   ]
  },
  {
   "cell_type": "code",
   "execution_count": 5,
   "id": "daac3f08",
   "metadata": {},
   "outputs": [
    {
     "data": {
      "text/plain": [
       "'Lovelace'"
      ]
     },
     "execution_count": 5,
     "metadata": {},
     "output_type": "execute_result"
    }
   ],
   "source": [
    "name"
   ]
  },
  {
   "cell_type": "code",
   "execution_count": 6,
   "id": "bfb0fc24",
   "metadata": {},
   "outputs": [
    {
     "name": "stdout",
     "output_type": "stream",
     "text": [
      "73\n"
     ]
    }
   ],
   "source": [
    "age = 73\n",
    "print (age)"
   ]
  },
  {
   "cell_type": "code",
   "execution_count": 7,
   "id": "3d355eb9",
   "metadata": {},
   "outputs": [
    {
     "name": "stdout",
     "output_type": "stream",
     "text": [
      "1.7123\n"
     ]
    }
   ],
   "source": [
    "size = 1.7123\n",
    "print (size)"
   ]
  },
  {
   "cell_type": "code",
   "execution_count": 8,
   "id": "57ea61e9",
   "metadata": {},
   "outputs": [
    {
     "ename": "NameError",
     "evalue": "name 'TRUE' is not defined",
     "output_type": "error",
     "traceback": [
      "\u001b[1;31m---------------------------------------------------------------------------\u001b[0m",
      "\u001b[1;31mNameError\u001b[0m                                 Traceback (most recent call last)",
      "\u001b[1;32m<ipython-input-8-c8846c2d7131>\u001b[0m in \u001b[0;36m<module>\u001b[1;34m\u001b[0m\n\u001b[1;32m----> 1\u001b[1;33m \u001b[0mknows_math\u001b[0m \u001b[1;33m=\u001b[0m \u001b[0mTRUE\u001b[0m\u001b[1;33m\u001b[0m\u001b[1;33m\u001b[0m\u001b[0m\n\u001b[0m",
      "\u001b[1;31mNameError\u001b[0m: name 'TRUE' is not defined"
     ]
    }
   ],
   "source": [
    "knows_math = TRUE"
   ]
  },
  {
   "cell_type": "code",
   "execution_count": 9,
   "id": "3e51f685",
   "metadata": {},
   "outputs": [],
   "source": [
    "knows_math = True"
   ]
  },
  {
   "cell_type": "code",
   "execution_count": 10,
   "id": "b30507b6",
   "metadata": {},
   "outputs": [
    {
     "name": "stdout",
     "output_type": "stream",
     "text": [
      "True\n"
     ]
    }
   ],
   "source": [
    "print (knows_math)"
   ]
  },
  {
   "cell_type": "code",
   "execution_count": 11,
   "id": "753c10b4",
   "metadata": {},
   "outputs": [
    {
     "name": "stdout",
     "output_type": "stream",
     "text": [
      "False\n"
     ]
    }
   ],
   "source": [
    "likes_gardening = False\n",
    "print (likes_gardening)"
   ]
  },
  {
   "cell_type": "code",
   "execution_count": 12,
   "id": "82414900",
   "metadata": {},
   "outputs": [
    {
     "data": {
      "text/plain": [
       "str"
      ]
     },
     "execution_count": 12,
     "metadata": {},
     "output_type": "execute_result"
    }
   ],
   "source": [
    "type (name)"
   ]
  },
  {
   "cell_type": "code",
   "execution_count": 13,
   "id": "ee533d47",
   "metadata": {},
   "outputs": [
    {
     "data": {
      "text/plain": [
       "bool"
      ]
     },
     "execution_count": 13,
     "metadata": {},
     "output_type": "execute_result"
    }
   ],
   "source": [
    "type (likes_gardening)"
   ]
  },
  {
   "cell_type": "code",
   "execution_count": 14,
   "id": "217c7de8",
   "metadata": {},
   "outputs": [
    {
     "data": {
      "text/plain": [
       "bool"
      ]
     },
     "execution_count": 14,
     "metadata": {},
     "output_type": "execute_result"
    }
   ],
   "source": [
    "type (knows_math)"
   ]
  },
  {
   "cell_type": "code",
   "execution_count": 15,
   "id": "b5926474",
   "metadata": {},
   "outputs": [
    {
     "data": {
      "text/plain": [
       "float"
      ]
     },
     "execution_count": 15,
     "metadata": {},
     "output_type": "execute_result"
    }
   ],
   "source": [
    "type (size)"
   ]
  },
  {
   "cell_type": "markdown",
   "id": "bf04a859",
   "metadata": {},
   "source": [
    "# Operatoren"
   ]
  },
  {
   "cell_type": "code",
   "execution_count": 18,
   "id": "c50305e5",
   "metadata": {},
   "outputs": [
    {
     "data": {
      "text/plain": [
       "10"
      ]
     },
     "execution_count": 18,
     "metadata": {},
     "output_type": "execute_result"
    }
   ],
   "source": [
    "5 + 5"
   ]
  },
  {
   "cell_type": "code",
   "execution_count": 19,
   "id": "a8cfa57c",
   "metadata": {},
   "outputs": [
    {
     "data": {
      "text/plain": [
       "7300"
      ]
     },
     "execution_count": 19,
     "metadata": {},
     "output_type": "execute_result"
    }
   ],
   "source": [
    "age * 100"
   ]
  },
  {
   "cell_type": "code",
   "execution_count": 20,
   "id": "815b2718",
   "metadata": {},
   "outputs": [
    {
     "data": {
      "text/plain": [
       "'LovelaceLovelace'"
      ]
     },
     "execution_count": 20,
     "metadata": {},
     "output_type": "execute_result"
    }
   ],
   "source": [
    "name + name"
   ]
  },
  {
   "cell_type": "code",
   "execution_count": 21,
   "id": "1a3e51c3",
   "metadata": {},
   "outputs": [
    {
     "data": {
      "text/plain": [
       "'LovelaceLovelaceLovelaceLovelaceLovelaceLovelaceLovelaceLovelaceLovelaceLovelace'"
      ]
     },
     "execution_count": 21,
     "metadata": {},
     "output_type": "execute_result"
    }
   ],
   "source": [
    "name * 10"
   ]
  },
  {
   "cell_type": "code",
   "execution_count": 22,
   "id": "fbb5654a",
   "metadata": {},
   "outputs": [
    {
     "data": {
      "text/plain": [
       "'Lovelace10'"
      ]
     },
     "execution_count": 22,
     "metadata": {},
     "output_type": "execute_result"
    }
   ],
   "source": [
    "name + \"10\""
   ]
  },
  {
   "cell_type": "code",
   "execution_count": 23,
   "id": "bf801362",
   "metadata": {},
   "outputs": [
    {
     "data": {
      "text/plain": [
       "'Lovelace10'"
      ]
     },
     "execution_count": 23,
     "metadata": {},
     "output_type": "execute_result"
    }
   ],
   "source": [
    "name + str(10)"
   ]
  },
  {
   "cell_type": "code",
   "execution_count": 24,
   "id": "101c10d9",
   "metadata": {},
   "outputs": [
    {
     "data": {
      "text/plain": [
       "0.023456164383561642"
      ]
     },
     "execution_count": 24,
     "metadata": {},
     "output_type": "execute_result"
    }
   ],
   "source": [
    "size / age "
   ]
  },
  {
   "cell_type": "code",
   "execution_count": 25,
   "id": "fe2b984d",
   "metadata": {},
   "outputs": [
    {
     "data": {
      "text/plain": [
       "10"
      ]
     },
     "execution_count": 25,
     "metadata": {},
     "output_type": "execute_result"
    }
   ],
   "source": [
    "int (\"10\")"
   ]
  },
  {
   "cell_type": "markdown",
   "id": "d8299a19",
   "metadata": {},
   "source": [
    "# Funktionen und Methoden"
   ]
  },
  {
   "cell_type": "code",
   "execution_count": 26,
   "id": "bfb789b5",
   "metadata": {},
   "outputs": [
    {
     "data": {
      "text/plain": [
       "'Lovelace'"
      ]
     },
     "execution_count": 26,
     "metadata": {},
     "output_type": "execute_result"
    }
   ],
   "source": [
    "name"
   ]
  },
  {
   "cell_type": "code",
   "execution_count": 27,
   "id": "0a9e7669",
   "metadata": {},
   "outputs": [
    {
     "data": {
      "text/plain": [
       "8"
      ]
     },
     "execution_count": 27,
     "metadata": {},
     "output_type": "execute_result"
    }
   ],
   "source": [
    "len(name)"
   ]
  },
  {
   "cell_type": "code",
   "execution_count": 28,
   "id": "3a200959",
   "metadata": {},
   "outputs": [
    {
     "data": {
      "text/plain": [
       "'LOVELACE'"
      ]
     },
     "execution_count": 28,
     "metadata": {},
     "output_type": "execute_result"
    }
   ],
   "source": [
    "name.upper()"
   ]
  },
  {
   "cell_type": "code",
   "execution_count": 29,
   "id": "12c4b6ab",
   "metadata": {},
   "outputs": [
    {
     "data": {
      "text/plain": [
       "'Lovelace'"
      ]
     },
     "execution_count": 29,
     "metadata": {},
     "output_type": "execute_result"
    }
   ],
   "source": [
    "name"
   ]
  },
  {
   "cell_type": "code",
   "execution_count": 30,
   "id": "f1caefac",
   "metadata": {},
   "outputs": [],
   "source": [
    "name_up = name.upper ()"
   ]
  },
  {
   "cell_type": "code",
   "execution_count": 31,
   "id": "8aaabba6",
   "metadata": {},
   "outputs": [
    {
     "name": "stdout",
     "output_type": "stream",
     "text": [
      "LOVELACE\n"
     ]
    }
   ],
   "source": [
    "print (name_up)"
   ]
  },
  {
   "cell_type": "code",
   "execution_count": 32,
   "id": "df3fba18",
   "metadata": {},
   "outputs": [
    {
     "data": {
      "text/plain": [
       "2"
      ]
     },
     "execution_count": 32,
     "metadata": {},
     "output_type": "execute_result"
    }
   ],
   "source": [
    "name.count (\"e\")"
   ]
  },
  {
   "cell_type": "code",
   "execution_count": 33,
   "id": "74335a91",
   "metadata": {},
   "outputs": [
    {
     "data": {
      "text/plain": [
       "'Loveis everywhere'"
      ]
     },
     "execution_count": 33,
     "metadata": {},
     "output_type": "execute_result"
    }
   ],
   "source": [
    "name.replace (\"lace\",\"is everywhere\")"
   ]
  },
  {
   "cell_type": "markdown",
   "id": "d56db16a",
   "metadata": {},
   "source": [
    "# Listen und Dictionaries"
   ]
  },
  {
   "cell_type": "code",
   "execution_count": 34,
   "id": "84cc35ef",
   "metadata": {},
   "outputs": [],
   "source": [
    "names = [\"Lovelace\", \"Darwin\", \"Curie\", \"Hawking\"]"
   ]
  },
  {
   "cell_type": "code",
   "execution_count": 35,
   "id": "7f6fd8b3",
   "metadata": {},
   "outputs": [
    {
     "data": {
      "text/plain": [
       "list"
      ]
     },
     "execution_count": 35,
     "metadata": {},
     "output_type": "execute_result"
    }
   ],
   "source": [
    "type (names)"
   ]
  },
  {
   "cell_type": "code",
   "execution_count": 36,
   "id": "22fe8b77",
   "metadata": {},
   "outputs": [
    {
     "data": {
      "text/plain": [
       "'Curie'"
      ]
     },
     "execution_count": 36,
     "metadata": {},
     "output_type": "execute_result"
    }
   ],
   "source": [
    "names [2]"
   ]
  },
  {
   "cell_type": "code",
   "execution_count": 37,
   "id": "be0cd407",
   "metadata": {},
   "outputs": [
    {
     "data": {
      "text/plain": [
       "'Hawking'"
      ]
     },
     "execution_count": 37,
     "metadata": {},
     "output_type": "execute_result"
    }
   ],
   "source": [
    "names [3]"
   ]
  },
  {
   "cell_type": "code",
   "execution_count": 38,
   "id": "dcffeba3",
   "metadata": {},
   "outputs": [
    {
     "data": {
      "text/plain": [
       "'Hawking'"
      ]
     },
     "execution_count": 38,
     "metadata": {},
     "output_type": "execute_result"
    }
   ],
   "source": [
    "names [-1]"
   ]
  },
  {
   "cell_type": "code",
   "execution_count": 39,
   "id": "2ef42456",
   "metadata": {},
   "outputs": [
    {
     "data": {
      "text/plain": [
       "['Lovelace', 'Darwin']"
      ]
     },
     "execution_count": 39,
     "metadata": {},
     "output_type": "execute_result"
    }
   ],
   "source": [
    "names [0:2]"
   ]
  },
  {
   "cell_type": "code",
   "execution_count": 40,
   "id": "8b46c84e",
   "metadata": {},
   "outputs": [
    {
     "data": {
      "text/plain": [
       "['Curie', 'Hawking']"
      ]
     },
     "execution_count": 40,
     "metadata": {},
     "output_type": "execute_result"
    }
   ],
   "source": [
    "names [2:]"
   ]
  },
  {
   "cell_type": "code",
   "execution_count": 41,
   "id": "8dd23cac",
   "metadata": {},
   "outputs": [],
   "source": [
    "names = [\"Lovelace\", \"Darwin\", \"Curie\", [1, 2, 3]]"
   ]
  },
  {
   "cell_type": "code",
   "execution_count": 42,
   "id": "5a23868d",
   "metadata": {},
   "outputs": [
    {
     "data": {
      "text/plain": [
       "[1, 2, 3]"
      ]
     },
     "execution_count": 42,
     "metadata": {},
     "output_type": "execute_result"
    }
   ],
   "source": [
    "names [3]"
   ]
  },
  {
   "cell_type": "code",
   "execution_count": 43,
   "id": "3d24fab2",
   "metadata": {},
   "outputs": [
    {
     "data": {
      "text/plain": [
       "2"
      ]
     },
     "execution_count": 43,
     "metadata": {},
     "output_type": "execute_result"
    }
   ],
   "source": [
    "names [3][1]"
   ]
  },
  {
   "cell_type": "code",
   "execution_count": 44,
   "id": "b6f0db21",
   "metadata": {},
   "outputs": [],
   "source": [
    "authors_and_birth_years = {\"Lovelace\": 1882, \"Darwin\": 1809, \"Noether\": 1882, \"Hawking\":1942}"
   ]
  },
  {
   "cell_type": "code",
   "execution_count": 45,
   "id": "2abc986c",
   "metadata": {},
   "outputs": [
    {
     "data": {
      "text/plain": [
       "1809"
      ]
     },
     "execution_count": 45,
     "metadata": {},
     "output_type": "execute_result"
    }
   ],
   "source": [
    "authors_and_birth_years [\"Darwin\"]"
   ]
  },
  {
   "cell_type": "markdown",
   "id": "adcb37b5",
   "metadata": {},
   "source": [
    "## for-Schleife"
   ]
  },
  {
   "cell_type": "code",
   "execution_count": 46,
   "id": "0f972792",
   "metadata": {},
   "outputs": [],
   "source": [
    "names = [\"Lovelace\", \"Darwin\", \"Curie\", \"Hawking\"]"
   ]
  },
  {
   "cell_type": "code",
   "execution_count": 48,
   "id": "a901e2b5",
   "metadata": {},
   "outputs": [
    {
     "name": "stdout",
     "output_type": "stream",
     "text": [
      "Lovelacedid awesome stuff.\n",
      "Darwindid awesome stuff.\n",
      "Curiedid awesome stuff.\n",
      "Hawkingdid awesome stuff.\n"
     ]
    }
   ],
   "source": [
    "for person in names: \n",
    "    print (person + \"did awesome stuff.\")"
   ]
  },
  {
   "cell_type": "code",
   "execution_count": 49,
   "id": "50641672",
   "metadata": {},
   "outputs": [
    {
     "name": "stdout",
     "output_type": "stream",
     "text": [
      "Lovelacedid awesome stuff.\n",
      "---------------------------\n",
      "Darwindid awesome stuff.\n",
      "---------------------------\n",
      "Curiedid awesome stuff.\n",
      "---------------------------\n",
      "Hawkingdid awesome stuff.\n",
      "---------------------------\n"
     ]
    }
   ],
   "source": [
    "for person in names: \n",
    "    print (person + \"did awesome stuff.\")\n",
    "    print (\"---------------------------\")"
   ]
  },
  {
   "cell_type": "code",
   "execution_count": 50,
   "id": "b93b319b",
   "metadata": {},
   "outputs": [
    {
     "name": "stdout",
     "output_type": "stream",
     "text": [
      "Lovelacedid awesome stuff.\n",
      "Darwindid awesome stuff.\n",
      "Curiedid awesome stuff.\n",
      "Hawkingdid awesome stuff.\n",
      "---------------------------\n"
     ]
    }
   ],
   "source": [
    "for person in names: \n",
    "    print (person + \"did awesome stuff.\")\n",
    "print (\"---------------------------\")"
   ]
  },
  {
   "cell_type": "code",
   "execution_count": 51,
   "id": "548e3ccf",
   "metadata": {},
   "outputs": [],
   "source": [
    "names = [\"Lovelace\", \"Darwin\", \"Curie\", \"Hawking\"]"
   ]
  },
  {
   "cell_type": "code",
   "execution_count": 52,
   "id": "b977ecc9",
   "metadata": {},
   "outputs": [],
   "source": [
    "names.append (\"Franklin\")"
   ]
  },
  {
   "cell_type": "code",
   "execution_count": 53,
   "id": "5fd50bdf",
   "metadata": {},
   "outputs": [
    {
     "data": {
      "text/plain": [
       "['Lovelace', 'Darwin', 'Curie', 'Hawking', 'Franklin']"
      ]
     },
     "execution_count": 53,
     "metadata": {},
     "output_type": "execute_result"
    }
   ],
   "source": [
    "names"
   ]
  },
  {
   "cell_type": "code",
   "execution_count": 54,
   "id": "bfd14568",
   "metadata": {},
   "outputs": [
    {
     "data": {
      "text/plain": [
       "'Curie'"
      ]
     },
     "execution_count": 54,
     "metadata": {},
     "output_type": "execute_result"
    }
   ],
   "source": [
    "names.pop (2)"
   ]
  },
  {
   "cell_type": "code",
   "execution_count": 55,
   "id": "8b03d0ee",
   "metadata": {},
   "outputs": [
    {
     "data": {
      "text/plain": [
       "['Lovelace', 'Darwin', 'Hawking', 'Franklin']"
      ]
     },
     "execution_count": 55,
     "metadata": {},
     "output_type": "execute_result"
    }
   ],
   "source": [
    "names"
   ]
  },
  {
   "cell_type": "code",
   "execution_count": 56,
   "id": "85f0615e",
   "metadata": {},
   "outputs": [],
   "source": [
    "names.insert?"
   ]
  },
  {
   "cell_type": "code",
   "execution_count": 57,
   "id": "035a27b6",
   "metadata": {},
   "outputs": [],
   "source": [
    "names.insert(1, \"Curie\")"
   ]
  },
  {
   "cell_type": "code",
   "execution_count": 58,
   "id": "0eff5f84",
   "metadata": {},
   "outputs": [
    {
     "data": {
      "text/plain": [
       "['Lovelace', 'Curie', 'Darwin', 'Hawking', 'Franklin']"
      ]
     },
     "execution_count": 58,
     "metadata": {},
     "output_type": "execute_result"
    }
   ],
   "source": [
    "names"
   ]
  },
  {
   "cell_type": "code",
   "execution_count": 59,
   "id": "6c1ba41b",
   "metadata": {},
   "outputs": [
    {
     "name": "stdout",
     "output_type": "stream",
     "text": [
      "It's cold\n"
     ]
    }
   ],
   "source": [
    "temp = 5\n",
    "if temp > 15:\n",
    "    print (\"It's warm\")\n",
    "else:\n",
    "    print (\"It's cold\")\n",
    "    "
   ]
  },
  {
   "cell_type": "code",
   "execution_count": 61,
   "id": "f342b7a5",
   "metadata": {},
   "outputs": [
    {
     "name": "stdout",
     "output_type": "stream",
     "text": [
      "It's warm\n"
     ]
    }
   ],
   "source": [
    "temp = 15\n",
    "if temp >= 25:\n",
    "    print (\"It's hot\")\n",
    "elif temp >= 15:\n",
    "    print (\"It's warm\")\n",
    "else:\n",
    "    print (\"It's cold\")\n",
    "    "
   ]
  },
  {
   "cell_type": "code",
   "execution_count": 63,
   "id": "4cfbcceb",
   "metadata": {},
   "outputs": [
    {
     "name": "stdout",
     "output_type": "stream",
     "text": [
      "It's mild\n"
     ]
    }
   ],
   "source": [
    "temp = 17\n",
    "if (temp > 15 and temp < 20):\n",
    "    print (\"It's mild\")"
   ]
  },
  {
   "cell_type": "code",
   "execution_count": 64,
   "id": "a45a15e5",
   "metadata": {},
   "outputs": [
    {
     "name": "stdout",
     "output_type": "stream",
     "text": [
      "It's extreme\n"
     ]
    }
   ],
   "source": [
    "temp = 41\n",
    "if (temp < 0 or temp > 40):\n",
    "    print (\"It's extreme\")"
   ]
  },
  {
   "cell_type": "code",
   "execution_count": 66,
   "id": "1de34a6c",
   "metadata": {},
   "outputs": [
    {
     "name": "stdout",
     "output_type": "stream",
     "text": [
      "C:\\Users\\Kerstin Vanessa\n"
     ]
    }
   ],
   "source": [
    "import os\n",
    "print(os.path.abspath(os.getcwd()))"
   ]
  },
  {
   "cell_type": "code",
   "execution_count": 67,
   "id": "c44f3f65",
   "metadata": {},
   "outputs": [
    {
     "name": "stdout",
     "output_type": "stream",
     "text": [
      "Defaulting to user installation because normal site-packages is not writeable"
     ]
    },
    {
     "name": "stderr",
     "output_type": "stream",
     "text": [
      "  WARNING: The script pyppeteer-install.exe is installed in 'C:\\Users\\Kerstin Vanessa\\AppData\\Roaming\\Python\\Python38\\Scripts' which is not on PATH.\n",
      "  Consider adding this directory to PATH or, if you prefer to suppress this warning, use --no-warn-script-location.\n"
     ]
    },
    {
     "name": "stdout",
     "output_type": "stream",
     "text": [
      "\n",
      "Collecting pyppeteer\n",
      "  Downloading pyppeteer-0.2.5-py3-none-any.whl (87 kB)\n",
      "Collecting websockets<9.0,>=8.1\n",
      "  Downloading websockets-8.1-cp38-cp38-win_amd64.whl (66 kB)\n",
      "Requirement already satisfied: tqdm<5.0.0,>=4.42.1 in c:\\users\\kerstinvanessa\\lib\\site-packages (from pyppeteer) (4.59.0)\n",
      "Requirement already satisfied: urllib3<2.0.0,>=1.25.8 in c:\\users\\kerstinvanessa\\lib\\site-packages (from pyppeteer) (1.26.4)\n",
      "Collecting pyee<9.0.0,>=8.1.0\n",
      "  Downloading pyee-8.1.0-py2.py3-none-any.whl (12 kB)\n",
      "Requirement already satisfied: appdirs<2.0.0,>=1.4.3 in c:\\users\\kerstinvanessa\\lib\\site-packages (from pyppeteer) (1.4.4)\n",
      "Installing collected packages: websockets, pyee, pyppeteer\n",
      "Successfully installed pyee-8.1.0 pyppeteer-0.2.5 websockets-8.1\n"
     ]
    }
   ],
   "source": [
    "!pip install pyppeteer"
   ]
  },
  {
   "cell_type": "code",
   "execution_count": null,
   "id": "d41389c8",
   "metadata": {},
   "outputs": [],
   "source": []
  }
 ],
 "metadata": {
  "kernelspec": {
   "display_name": "Python 3",
   "language": "python",
   "name": "python3"
  },
  "language_info": {
   "codemirror_mode": {
    "name": "ipython",
    "version": 3
   },
   "file_extension": ".py",
   "mimetype": "text/x-python",
   "name": "python",
   "nbconvert_exporter": "python",
   "pygments_lexer": "ipython3",
   "version": "3.8.8"
  }
 },
 "nbformat": 4,
 "nbformat_minor": 5
}
